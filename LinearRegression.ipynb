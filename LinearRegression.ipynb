{
 "metadata": {
  "language_info": {
   "codemirror_mode": {
    "name": "ipython",
    "version": 3
   },
   "file_extension": ".py",
   "mimetype": "text/x-python",
   "name": "python",
   "nbconvert_exporter": "python",
   "pygments_lexer": "ipython3",
   "version": "3.8.8"
  },
  "orig_nbformat": 2,
  "kernelspec": {
   "name": "python388jvsc74a57bd043a8f8e8a0f170ae4b5edcf24b88cf11d15e72a06de1d670eae103445a518b1b",
   "display_name": "Python 3.8.8 64-bit"
  }
 },
 "nbformat": 4,
 "nbformat_minor": 2,
 "cells": [
  {
   "cell_type": "code",
   "execution_count": 21,
   "metadata": {},
   "outputs": [],
   "source": [
    "import numpy as nm\n",
    "import pandas as pd\n",
    "import matplotlib.pyplot as plt\n",
    "import seaborn as sns\n",
    "from sklearn.model_selection import train_test_split\n",
    "from sklearn.linear_model import LinearRegression\n",
    "from sklearn import metrics\n",
    "\n",
    "%matplotlib inline\n"
   ]
  },
  {
   "cell_type": "code",
   "execution_count": 22,
   "metadata": {},
   "outputs": [
    {
     "output_type": "execute_result",
     "data": {
      "text/plain": [
       "      CRIM    ZN  INDUS  CHAS    NOX     RM   AGE     DIS  RAD  TAX  PTRATIO  \\\n",
       "0  0.00632  18.0   2.31     0  0.538  6.575  65.2  4.0900    1  296     15.3   \n",
       "1  0.02731   0.0   7.07     0  0.469  6.421  78.9  4.9671    2  242     17.8   \n",
       "2  0.02729   0.0   7.07     0  0.469  7.185  61.1  4.9671    2  242     17.8   \n",
       "3  0.03237   0.0   2.18     0  0.458  6.998  45.8  6.0622    3  222     18.7   \n",
       "4  0.06905   0.0   2.18     0  0.458  7.147  54.2  6.0622    3  222     18.7   \n",
       "\n",
       "        B  LSTAT  MEDV  \n",
       "0  396.90   4.98  24.0  \n",
       "1  396.90   9.14  21.6  \n",
       "2  392.83   4.03  34.7  \n",
       "3  394.63   2.94  33.4  \n",
       "4  396.90   2.94  36.2  "
      ],
      "text/html": "<div>\n<style scoped>\n    .dataframe tbody tr th:only-of-type {\n        vertical-align: middle;\n    }\n\n    .dataframe tbody tr th {\n        vertical-align: top;\n    }\n\n    .dataframe thead th {\n        text-align: right;\n    }\n</style>\n<table border=\"1\" class=\"dataframe\">\n  <thead>\n    <tr style=\"text-align: right;\">\n      <th></th>\n      <th>CRIM</th>\n      <th>ZN</th>\n      <th>INDUS</th>\n      <th>CHAS</th>\n      <th>NOX</th>\n      <th>RM</th>\n      <th>AGE</th>\n      <th>DIS</th>\n      <th>RAD</th>\n      <th>TAX</th>\n      <th>PTRATIO</th>\n      <th>B</th>\n      <th>LSTAT</th>\n      <th>MEDV</th>\n    </tr>\n  </thead>\n  <tbody>\n    <tr>\n      <th>0</th>\n      <td>0.00632</td>\n      <td>18.0</td>\n      <td>2.31</td>\n      <td>0</td>\n      <td>0.538</td>\n      <td>6.575</td>\n      <td>65.2</td>\n      <td>4.0900</td>\n      <td>1</td>\n      <td>296</td>\n      <td>15.3</td>\n      <td>396.90</td>\n      <td>4.98</td>\n      <td>24.0</td>\n    </tr>\n    <tr>\n      <th>1</th>\n      <td>0.02731</td>\n      <td>0.0</td>\n      <td>7.07</td>\n      <td>0</td>\n      <td>0.469</td>\n      <td>6.421</td>\n      <td>78.9</td>\n      <td>4.9671</td>\n      <td>2</td>\n      <td>242</td>\n      <td>17.8</td>\n      <td>396.90</td>\n      <td>9.14</td>\n      <td>21.6</td>\n    </tr>\n    <tr>\n      <th>2</th>\n      <td>0.02729</td>\n      <td>0.0</td>\n      <td>7.07</td>\n      <td>0</td>\n      <td>0.469</td>\n      <td>7.185</td>\n      <td>61.1</td>\n      <td>4.9671</td>\n      <td>2</td>\n      <td>242</td>\n      <td>17.8</td>\n      <td>392.83</td>\n      <td>4.03</td>\n      <td>34.7</td>\n    </tr>\n    <tr>\n      <th>3</th>\n      <td>0.03237</td>\n      <td>0.0</td>\n      <td>2.18</td>\n      <td>0</td>\n      <td>0.458</td>\n      <td>6.998</td>\n      <td>45.8</td>\n      <td>6.0622</td>\n      <td>3</td>\n      <td>222</td>\n      <td>18.7</td>\n      <td>394.63</td>\n      <td>2.94</td>\n      <td>33.4</td>\n    </tr>\n    <tr>\n      <th>4</th>\n      <td>0.06905</td>\n      <td>0.0</td>\n      <td>2.18</td>\n      <td>0</td>\n      <td>0.458</td>\n      <td>7.147</td>\n      <td>54.2</td>\n      <td>6.0622</td>\n      <td>3</td>\n      <td>222</td>\n      <td>18.7</td>\n      <td>396.90</td>\n      <td>2.94</td>\n      <td>36.2</td>\n    </tr>\n  </tbody>\n</table>\n</div>"
     },
     "metadata": {},
     "execution_count": 22
    }
   ],
   "source": [
    "housing_dataset = pd.read_csv(\"E:\\PC_this\\HousingData1.csv\")\n",
    "housing_dataset.head()"
   ]
  },
  {
   "cell_type": "code",
   "execution_count": 23,
   "metadata": {},
   "outputs": [
    {
     "output_type": "execute_result",
     "data": {
      "text/plain": [
       "(506, 14)"
      ]
     },
     "metadata": {},
     "execution_count": 23
    }
   ],
   "source": [
    "housing_dataset.shape"
   ]
  },
  {
   "cell_type": "code",
   "execution_count": 24,
   "metadata": {},
   "outputs": [
    {
     "output_type": "execute_result",
     "data": {
      "text/plain": [
       "             CRIM        ZN     INDUS      CHAS       NOX        RM       AGE  \\\n",
       "CRIM     1.000000 -0.199819  0.407684 -0.055333  0.421804 -0.221301  0.349734   \n",
       "ZN      -0.199819  1.000000 -0.525165 -0.040399 -0.511056  0.302417 -0.560968   \n",
       "INDUS    0.407684 -0.525165  1.000000  0.054617  0.762499 -0.390445  0.640996   \n",
       "CHAS    -0.055333 -0.040399  0.054617  1.000000  0.070867  0.106797  0.088225   \n",
       "NOX      0.421804 -0.511056  0.762499  0.070867  1.000000 -0.302188  0.726211   \n",
       "RM      -0.221301  0.302417 -0.390445  0.106797 -0.302188  1.000000 -0.233054   \n",
       "AGE      0.349734 -0.560968  0.640996  0.088225  0.726211 -0.233054  1.000000   \n",
       "DIS     -0.378941  0.653589 -0.705899 -0.092318 -0.769230  0.205246 -0.738767   \n",
       "RAD      0.626336 -0.310159  0.596742 -0.003339  0.611441 -0.209847  0.456207   \n",
       "TAX      0.583558 -0.313370  0.721834 -0.035822  0.668023 -0.292048  0.505672   \n",
       "PTRATIO  0.290407 -0.385452  0.380179 -0.109451  0.188933 -0.355501  0.246605   \n",
       "B       -0.386656  0.175763 -0.357607  0.050608 -0.380051  0.128069 -0.273935   \n",
       "LSTAT    0.452010 -0.407945  0.601756 -0.054208  0.587866 -0.617253  0.593492   \n",
       "MEDV    -0.391289  0.353895 -0.480596  0.183844 -0.427321  0.695360 -0.363575   \n",
       "\n",
       "              DIS       RAD       TAX   PTRATIO         B     LSTAT      MEDV  \n",
       "CRIM    -0.378941  0.626336  0.583558  0.290407 -0.386656  0.452010 -0.391289  \n",
       "ZN       0.653589 -0.310159 -0.313370 -0.385452  0.175763 -0.407945  0.353895  \n",
       "INDUS   -0.705899  0.596742  0.721834  0.380179 -0.357607  0.601756 -0.480596  \n",
       "CHAS    -0.092318 -0.003339 -0.035822 -0.109451  0.050608 -0.054208  0.183844  \n",
       "NOX     -0.769230  0.611441  0.668023  0.188933 -0.380051  0.587866 -0.427321  \n",
       "RM       0.205246 -0.209847 -0.292048 -0.355501  0.128069 -0.617253  0.695360  \n",
       "AGE     -0.738767  0.456207  0.505672  0.246605 -0.273935  0.593492 -0.363575  \n",
       "DIS      1.000000 -0.494588 -0.534432 -0.232471  0.291512 -0.500908  0.249929  \n",
       "RAD     -0.494588  1.000000  0.910228  0.464741 -0.444413  0.485692 -0.381626  \n",
       "TAX     -0.534432  0.910228  1.000000  0.460853 -0.441808  0.540614 -0.468536  \n",
       "PTRATIO -0.232471  0.464741  0.460853  1.000000 -0.177383  0.376366 -0.507787  \n",
       "B        0.291512 -0.444413 -0.441808 -0.177383  1.000000 -0.364695  0.333461  \n",
       "LSTAT   -0.500908  0.485692  0.540614  0.376366 -0.364695  1.000000 -0.732716  \n",
       "MEDV     0.249929 -0.381626 -0.468536 -0.507787  0.333461 -0.732716  1.000000  "
      ],
      "text/html": "<div>\n<style scoped>\n    .dataframe tbody tr th:only-of-type {\n        vertical-align: middle;\n    }\n\n    .dataframe tbody tr th {\n        vertical-align: top;\n    }\n\n    .dataframe thead th {\n        text-align: right;\n    }\n</style>\n<table border=\"1\" class=\"dataframe\">\n  <thead>\n    <tr style=\"text-align: right;\">\n      <th></th>\n      <th>CRIM</th>\n      <th>ZN</th>\n      <th>INDUS</th>\n      <th>CHAS</th>\n      <th>NOX</th>\n      <th>RM</th>\n      <th>AGE</th>\n      <th>DIS</th>\n      <th>RAD</th>\n      <th>TAX</th>\n      <th>PTRATIO</th>\n      <th>B</th>\n      <th>LSTAT</th>\n      <th>MEDV</th>\n    </tr>\n  </thead>\n  <tbody>\n    <tr>\n      <th>CRIM</th>\n      <td>1.000000</td>\n      <td>-0.199819</td>\n      <td>0.407684</td>\n      <td>-0.055333</td>\n      <td>0.421804</td>\n      <td>-0.221301</td>\n      <td>0.349734</td>\n      <td>-0.378941</td>\n      <td>0.626336</td>\n      <td>0.583558</td>\n      <td>0.290407</td>\n      <td>-0.386656</td>\n      <td>0.452010</td>\n      <td>-0.391289</td>\n    </tr>\n    <tr>\n      <th>ZN</th>\n      <td>-0.199819</td>\n      <td>1.000000</td>\n      <td>-0.525165</td>\n      <td>-0.040399</td>\n      <td>-0.511056</td>\n      <td>0.302417</td>\n      <td>-0.560968</td>\n      <td>0.653589</td>\n      <td>-0.310159</td>\n      <td>-0.313370</td>\n      <td>-0.385452</td>\n      <td>0.175763</td>\n      <td>-0.407945</td>\n      <td>0.353895</td>\n    </tr>\n    <tr>\n      <th>INDUS</th>\n      <td>0.407684</td>\n      <td>-0.525165</td>\n      <td>1.000000</td>\n      <td>0.054617</td>\n      <td>0.762499</td>\n      <td>-0.390445</td>\n      <td>0.640996</td>\n      <td>-0.705899</td>\n      <td>0.596742</td>\n      <td>0.721834</td>\n      <td>0.380179</td>\n      <td>-0.357607</td>\n      <td>0.601756</td>\n      <td>-0.480596</td>\n    </tr>\n    <tr>\n      <th>CHAS</th>\n      <td>-0.055333</td>\n      <td>-0.040399</td>\n      <td>0.054617</td>\n      <td>1.000000</td>\n      <td>0.070867</td>\n      <td>0.106797</td>\n      <td>0.088225</td>\n      <td>-0.092318</td>\n      <td>-0.003339</td>\n      <td>-0.035822</td>\n      <td>-0.109451</td>\n      <td>0.050608</td>\n      <td>-0.054208</td>\n      <td>0.183844</td>\n    </tr>\n    <tr>\n      <th>NOX</th>\n      <td>0.421804</td>\n      <td>-0.511056</td>\n      <td>0.762499</td>\n      <td>0.070867</td>\n      <td>1.000000</td>\n      <td>-0.302188</td>\n      <td>0.726211</td>\n      <td>-0.769230</td>\n      <td>0.611441</td>\n      <td>0.668023</td>\n      <td>0.188933</td>\n      <td>-0.380051</td>\n      <td>0.587866</td>\n      <td>-0.427321</td>\n    </tr>\n    <tr>\n      <th>RM</th>\n      <td>-0.221301</td>\n      <td>0.302417</td>\n      <td>-0.390445</td>\n      <td>0.106797</td>\n      <td>-0.302188</td>\n      <td>1.000000</td>\n      <td>-0.233054</td>\n      <td>0.205246</td>\n      <td>-0.209847</td>\n      <td>-0.292048</td>\n      <td>-0.355501</td>\n      <td>0.128069</td>\n      <td>-0.617253</td>\n      <td>0.695360</td>\n    </tr>\n    <tr>\n      <th>AGE</th>\n      <td>0.349734</td>\n      <td>-0.560968</td>\n      <td>0.640996</td>\n      <td>0.088225</td>\n      <td>0.726211</td>\n      <td>-0.233054</td>\n      <td>1.000000</td>\n      <td>-0.738767</td>\n      <td>0.456207</td>\n      <td>0.505672</td>\n      <td>0.246605</td>\n      <td>-0.273935</td>\n      <td>0.593492</td>\n      <td>-0.363575</td>\n    </tr>\n    <tr>\n      <th>DIS</th>\n      <td>-0.378941</td>\n      <td>0.653589</td>\n      <td>-0.705899</td>\n      <td>-0.092318</td>\n      <td>-0.769230</td>\n      <td>0.205246</td>\n      <td>-0.738767</td>\n      <td>1.000000</td>\n      <td>-0.494588</td>\n      <td>-0.534432</td>\n      <td>-0.232471</td>\n      <td>0.291512</td>\n      <td>-0.500908</td>\n      <td>0.249929</td>\n    </tr>\n    <tr>\n      <th>RAD</th>\n      <td>0.626336</td>\n      <td>-0.310159</td>\n      <td>0.596742</td>\n      <td>-0.003339</td>\n      <td>0.611441</td>\n      <td>-0.209847</td>\n      <td>0.456207</td>\n      <td>-0.494588</td>\n      <td>1.000000</td>\n      <td>0.910228</td>\n      <td>0.464741</td>\n      <td>-0.444413</td>\n      <td>0.485692</td>\n      <td>-0.381626</td>\n    </tr>\n    <tr>\n      <th>TAX</th>\n      <td>0.583558</td>\n      <td>-0.313370</td>\n      <td>0.721834</td>\n      <td>-0.035822</td>\n      <td>0.668023</td>\n      <td>-0.292048</td>\n      <td>0.505672</td>\n      <td>-0.534432</td>\n      <td>0.910228</td>\n      <td>1.000000</td>\n      <td>0.460853</td>\n      <td>-0.441808</td>\n      <td>0.540614</td>\n      <td>-0.468536</td>\n    </tr>\n    <tr>\n      <th>PTRATIO</th>\n      <td>0.290407</td>\n      <td>-0.385452</td>\n      <td>0.380179</td>\n      <td>-0.109451</td>\n      <td>0.188933</td>\n      <td>-0.355501</td>\n      <td>0.246605</td>\n      <td>-0.232471</td>\n      <td>0.464741</td>\n      <td>0.460853</td>\n      <td>1.000000</td>\n      <td>-0.177383</td>\n      <td>0.376366</td>\n      <td>-0.507787</td>\n    </tr>\n    <tr>\n      <th>B</th>\n      <td>-0.386656</td>\n      <td>0.175763</td>\n      <td>-0.357607</td>\n      <td>0.050608</td>\n      <td>-0.380051</td>\n      <td>0.128069</td>\n      <td>-0.273935</td>\n      <td>0.291512</td>\n      <td>-0.444413</td>\n      <td>-0.441808</td>\n      <td>-0.177383</td>\n      <td>1.000000</td>\n      <td>-0.364695</td>\n      <td>0.333461</td>\n    </tr>\n    <tr>\n      <th>LSTAT</th>\n      <td>0.452010</td>\n      <td>-0.407945</td>\n      <td>0.601756</td>\n      <td>-0.054208</td>\n      <td>0.587866</td>\n      <td>-0.617253</td>\n      <td>0.593492</td>\n      <td>-0.500908</td>\n      <td>0.485692</td>\n      <td>0.540614</td>\n      <td>0.376366</td>\n      <td>-0.364695</td>\n      <td>1.000000</td>\n      <td>-0.732716</td>\n    </tr>\n    <tr>\n      <th>MEDV</th>\n      <td>-0.391289</td>\n      <td>0.353895</td>\n      <td>-0.480596</td>\n      <td>0.183844</td>\n      <td>-0.427321</td>\n      <td>0.695360</td>\n      <td>-0.363575</td>\n      <td>0.249929</td>\n      <td>-0.381626</td>\n      <td>-0.468536</td>\n      <td>-0.507787</td>\n      <td>0.333461</td>\n      <td>-0.732716</td>\n      <td>1.000000</td>\n    </tr>\n  </tbody>\n</table>\n</div>"
     },
     "metadata": {},
     "execution_count": 24
    }
   ],
   "source": [
    "plt.rcParams[\"figure.figsize\"]=[8,6]\n",
    "corr=housing_dataset.corr()\n",
    "corr"
   ]
  },
  {
   "cell_type": "code",
   "execution_count": null,
   "metadata": {},
   "outputs": [],
   "source": []
  }
 ]
}